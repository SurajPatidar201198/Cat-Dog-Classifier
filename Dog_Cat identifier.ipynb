
      "Found 8000 images belonging to 1 classes.\n"
     ]
    }
   ],
   "source": [
    "training_set= train_datagen.flow_from_directory('Downloads/training_set',target_size=(64,64),batch_size=32,class_mode='binary')"
